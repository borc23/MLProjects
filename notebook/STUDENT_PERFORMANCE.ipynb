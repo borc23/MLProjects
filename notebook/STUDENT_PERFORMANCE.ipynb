{
 "cells": [
  {
   "cell_type": "code",
   "execution_count": 10,
   "metadata": {},
   "outputs": [],
   "source": [
    "import polars as pl\n",
    "import polars.selectors as cs\n"
   ]
  },
  {
   "cell_type": "code",
   "execution_count": 5,
   "metadata": {},
   "outputs": [],
   "source": [
    "df = pl.read_csv('data/stud.csv')"
   ]
  },
  {
   "cell_type": "code",
   "execution_count": 6,
   "metadata": {},
   "outputs": [
    {
     "data": {
      "text/html": [
       "<div><style>\n",
       ".dataframe > thead > tr,\n",
       ".dataframe > tbody > tr {\n",
       "  text-align: right;\n",
       "  white-space: pre-wrap;\n",
       "}\n",
       "</style>\n",
       "<small>shape: (9, 9)</small><table border=\"1\" class=\"dataframe\"><thead><tr><th>statistic</th><th>gender</th><th>race_ethnicity</th><th>parental_level_of_education</th><th>lunch</th><th>test_preparation_course</th><th>math_score</th><th>reading_score</th><th>writing_score</th></tr><tr><td>str</td><td>str</td><td>str</td><td>str</td><td>str</td><td>str</td><td>f64</td><td>f64</td><td>f64</td></tr></thead><tbody><tr><td>&quot;count&quot;</td><td>&quot;1000&quot;</td><td>&quot;1000&quot;</td><td>&quot;1000&quot;</td><td>&quot;1000&quot;</td><td>&quot;1000&quot;</td><td>1000.0</td><td>1000.0</td><td>1000.0</td></tr><tr><td>&quot;null_count&quot;</td><td>&quot;0&quot;</td><td>&quot;0&quot;</td><td>&quot;0&quot;</td><td>&quot;0&quot;</td><td>&quot;0&quot;</td><td>0.0</td><td>0.0</td><td>0.0</td></tr><tr><td>&quot;mean&quot;</td><td>null</td><td>null</td><td>null</td><td>null</td><td>null</td><td>66.089</td><td>69.169</td><td>68.054</td></tr><tr><td>&quot;std&quot;</td><td>null</td><td>null</td><td>null</td><td>null</td><td>null</td><td>15.16308</td><td>14.600192</td><td>15.195657</td></tr><tr><td>&quot;min&quot;</td><td>&quot;female&quot;</td><td>&quot;group A&quot;</td><td>&quot;associate&#x27;s degree&quot;</td><td>&quot;free/reduced&quot;</td><td>&quot;completed&quot;</td><td>0.0</td><td>17.0</td><td>10.0</td></tr><tr><td>&quot;25%&quot;</td><td>null</td><td>null</td><td>null</td><td>null</td><td>null</td><td>57.0</td><td>59.0</td><td>58.0</td></tr><tr><td>&quot;50%&quot;</td><td>null</td><td>null</td><td>null</td><td>null</td><td>null</td><td>66.0</td><td>70.0</td><td>69.0</td></tr><tr><td>&quot;75%&quot;</td><td>null</td><td>null</td><td>null</td><td>null</td><td>null</td><td>77.0</td><td>79.0</td><td>79.0</td></tr><tr><td>&quot;max&quot;</td><td>&quot;male&quot;</td><td>&quot;group E&quot;</td><td>&quot;some high school&quot;</td><td>&quot;standard&quot;</td><td>&quot;none&quot;</td><td>100.0</td><td>100.0</td><td>100.0</td></tr></tbody></table></div>"
      ],
      "text/plain": [
       "shape: (9, 9)\n",
       "┌────────────┬────────┬────────────┬───────────┬───┬───────────┬───────────┬───────────┬───────────┐\n",
       "│ statistic  ┆ gender ┆ race_ethni ┆ parental_ ┆ … ┆ test_prep ┆ math_scor ┆ reading_s ┆ writing_s │\n",
       "│ ---        ┆ ---    ┆ city       ┆ level_of_ ┆   ┆ aration_c ┆ e         ┆ core      ┆ core      │\n",
       "│ str        ┆ str    ┆ ---        ┆ education ┆   ┆ ourse     ┆ ---       ┆ ---       ┆ ---       │\n",
       "│            ┆        ┆ str        ┆ ---       ┆   ┆ ---       ┆ f64       ┆ f64       ┆ f64       │\n",
       "│            ┆        ┆            ┆ str       ┆   ┆ str       ┆           ┆           ┆           │\n",
       "╞════════════╪════════╪════════════╪═══════════╪═══╪═══════════╪═══════════╪═══════════╪═══════════╡\n",
       "│ count      ┆ 1000   ┆ 1000       ┆ 1000      ┆ … ┆ 1000      ┆ 1000.0    ┆ 1000.0    ┆ 1000.0    │\n",
       "│ null_count ┆ 0      ┆ 0          ┆ 0         ┆ … ┆ 0         ┆ 0.0       ┆ 0.0       ┆ 0.0       │\n",
       "│ mean       ┆ null   ┆ null       ┆ null      ┆ … ┆ null      ┆ 66.089    ┆ 69.169    ┆ 68.054    │\n",
       "│ std        ┆ null   ┆ null       ┆ null      ┆ … ┆ null      ┆ 15.16308  ┆ 14.600192 ┆ 15.195657 │\n",
       "│ min        ┆ female ┆ group A    ┆ associate ┆ … ┆ completed ┆ 0.0       ┆ 17.0      ┆ 10.0      │\n",
       "│            ┆        ┆            ┆ 's degree ┆   ┆           ┆           ┆           ┆           │\n",
       "│ 25%        ┆ null   ┆ null       ┆ null      ┆ … ┆ null      ┆ 57.0      ┆ 59.0      ┆ 58.0      │\n",
       "│ 50%        ┆ null   ┆ null       ┆ null      ┆ … ┆ null      ┆ 66.0      ┆ 70.0      ┆ 69.0      │\n",
       "│ 75%        ┆ null   ┆ null       ┆ null      ┆ … ┆ null      ┆ 77.0      ┆ 79.0      ┆ 79.0      │\n",
       "│ max        ┆ male   ┆ group E    ┆ some high ┆ … ┆ none      ┆ 100.0     ┆ 100.0     ┆ 100.0     │\n",
       "│            ┆        ┆            ┆ school    ┆   ┆           ┆           ┆           ┆           │\n",
       "└────────────┴────────┴────────────┴───────────┴───┴───────────┴───────────┴───────────┴───────────┘"
      ]
     },
     "execution_count": 6,
     "metadata": {},
     "output_type": "execute_result"
    }
   ],
   "source": [
    "df.describe()"
   ]
  },
  {
   "cell_type": "code",
   "execution_count": 7,
   "metadata": {},
   "outputs": [
    {
     "data": {
      "text/plain": [
       "['reading_score', 'writing_score']"
      ]
     },
     "execution_count": 7,
     "metadata": {},
     "output_type": "execute_result"
    }
   ],
   "source": [
    "target_column_name = 'math_score'\n",
    "[feature for feature in df.columns if df[feature].dtype != pl.String and feature != target_column_name]"
   ]
  },
  {
   "cell_type": "code",
   "execution_count": 27,
   "metadata": {},
   "outputs": [
    {
     "data": {
      "text/plain": [
       "['reading_score', 'writing_score']"
      ]
     },
     "execution_count": 27,
     "metadata": {},
     "output_type": "execute_result"
    }
   ],
   "source": [
    "df.select(cs.numeric()).select(pl.exclude(target_column_name)).columns"
   ]
  },
  {
   "cell_type": "code",
   "execution_count": 8,
   "metadata": {},
   "outputs": [
    {
     "name": "stderr",
     "output_type": "stream",
     "text": [
      "C:\\Users\\bor.cerne\\AppData\\Local\\Temp\\ipykernel_7448\\1229443203.py:1: DeprecationWarning: named `columns` param is deprecated; use positional `*args` instead.\n",
      "  df.drop(columns=[target_column_name])\n"
     ]
    },
    {
     "data": {
      "text/html": [
       "<div><style>\n",
       ".dataframe > thead > tr,\n",
       ".dataframe > tbody > tr {\n",
       "  text-align: right;\n",
       "  white-space: pre-wrap;\n",
       "}\n",
       "</style>\n",
       "<small>shape: (1_000, 7)</small><table border=\"1\" class=\"dataframe\"><thead><tr><th>gender</th><th>race_ethnicity</th><th>parental_level_of_education</th><th>lunch</th><th>test_preparation_course</th><th>reading_score</th><th>writing_score</th></tr><tr><td>str</td><td>str</td><td>str</td><td>str</td><td>str</td><td>i64</td><td>i64</td></tr></thead><tbody><tr><td>&quot;female&quot;</td><td>&quot;group B&quot;</td><td>&quot;bachelor&#x27;s degree&quot;</td><td>&quot;standard&quot;</td><td>&quot;none&quot;</td><td>72</td><td>74</td></tr><tr><td>&quot;female&quot;</td><td>&quot;group C&quot;</td><td>&quot;some college&quot;</td><td>&quot;standard&quot;</td><td>&quot;completed&quot;</td><td>90</td><td>88</td></tr><tr><td>&quot;female&quot;</td><td>&quot;group B&quot;</td><td>&quot;master&#x27;s degree&quot;</td><td>&quot;standard&quot;</td><td>&quot;none&quot;</td><td>95</td><td>93</td></tr><tr><td>&quot;male&quot;</td><td>&quot;group A&quot;</td><td>&quot;associate&#x27;s degree&quot;</td><td>&quot;free/reduced&quot;</td><td>&quot;none&quot;</td><td>57</td><td>44</td></tr><tr><td>&quot;male&quot;</td><td>&quot;group C&quot;</td><td>&quot;some college&quot;</td><td>&quot;standard&quot;</td><td>&quot;none&quot;</td><td>78</td><td>75</td></tr><tr><td>&hellip;</td><td>&hellip;</td><td>&hellip;</td><td>&hellip;</td><td>&hellip;</td><td>&hellip;</td><td>&hellip;</td></tr><tr><td>&quot;female&quot;</td><td>&quot;group E&quot;</td><td>&quot;master&#x27;s degree&quot;</td><td>&quot;standard&quot;</td><td>&quot;completed&quot;</td><td>99</td><td>95</td></tr><tr><td>&quot;male&quot;</td><td>&quot;group C&quot;</td><td>&quot;high school&quot;</td><td>&quot;free/reduced&quot;</td><td>&quot;none&quot;</td><td>55</td><td>55</td></tr><tr><td>&quot;female&quot;</td><td>&quot;group C&quot;</td><td>&quot;high school&quot;</td><td>&quot;free/reduced&quot;</td><td>&quot;completed&quot;</td><td>71</td><td>65</td></tr><tr><td>&quot;female&quot;</td><td>&quot;group D&quot;</td><td>&quot;some college&quot;</td><td>&quot;standard&quot;</td><td>&quot;completed&quot;</td><td>78</td><td>77</td></tr><tr><td>&quot;female&quot;</td><td>&quot;group D&quot;</td><td>&quot;some college&quot;</td><td>&quot;free/reduced&quot;</td><td>&quot;none&quot;</td><td>86</td><td>86</td></tr></tbody></table></div>"
      ],
      "text/plain": [
       "shape: (1_000, 7)\n",
       "┌────────┬──────────────┬──────────────┬──────────────┬──────────────┬──────────────┬──────────────┐\n",
       "│ gender ┆ race_ethnici ┆ parental_lev ┆ lunch        ┆ test_prepara ┆ reading_scor ┆ writing_scor │\n",
       "│ ---    ┆ ty           ┆ el_of_educat ┆ ---          ┆ tion_course  ┆ e            ┆ e            │\n",
       "│ str    ┆ ---          ┆ ion          ┆ str          ┆ ---          ┆ ---          ┆ ---          │\n",
       "│        ┆ str          ┆ ---          ┆              ┆ str          ┆ i64          ┆ i64          │\n",
       "│        ┆              ┆ str          ┆              ┆              ┆              ┆              │\n",
       "╞════════╪══════════════╪══════════════╪══════════════╪══════════════╪══════════════╪══════════════╡\n",
       "│ female ┆ group B      ┆ bachelor's   ┆ standard     ┆ none         ┆ 72           ┆ 74           │\n",
       "│        ┆              ┆ degree       ┆              ┆              ┆              ┆              │\n",
       "│ female ┆ group C      ┆ some college ┆ standard     ┆ completed    ┆ 90           ┆ 88           │\n",
       "│ female ┆ group B      ┆ master's     ┆ standard     ┆ none         ┆ 95           ┆ 93           │\n",
       "│        ┆              ┆ degree       ┆              ┆              ┆              ┆              │\n",
       "│ male   ┆ group A      ┆ associate's  ┆ free/reduced ┆ none         ┆ 57           ┆ 44           │\n",
       "│        ┆              ┆ degree       ┆              ┆              ┆              ┆              │\n",
       "│ male   ┆ group C      ┆ some college ┆ standard     ┆ none         ┆ 78           ┆ 75           │\n",
       "│ …      ┆ …            ┆ …            ┆ …            ┆ …            ┆ …            ┆ …            │\n",
       "│ female ┆ group E      ┆ master's     ┆ standard     ┆ completed    ┆ 99           ┆ 95           │\n",
       "│        ┆              ┆ degree       ┆              ┆              ┆              ┆              │\n",
       "│ male   ┆ group C      ┆ high school  ┆ free/reduced ┆ none         ┆ 55           ┆ 55           │\n",
       "│ female ┆ group C      ┆ high school  ┆ free/reduced ┆ completed    ┆ 71           ┆ 65           │\n",
       "│ female ┆ group D      ┆ some college ┆ standard     ┆ completed    ┆ 78           ┆ 77           │\n",
       "│ female ┆ group D      ┆ some college ┆ free/reduced ┆ none         ┆ 86           ┆ 86           │\n",
       "└────────┴──────────────┴──────────────┴──────────────┴──────────────┴──────────────┴──────────────┘"
      ]
     },
     "execution_count": 8,
     "metadata": {},
     "output_type": "execute_result"
    }
   ],
   "source": [
    "df.drop(columns=[target_column_name])\n"
   ]
  },
  {
   "cell_type": "code",
   "execution_count": 5,
   "metadata": {},
   "outputs": [],
   "source": [
    "import numpy as np"
   ]
  },
  {
   "cell_type": "code",
   "execution_count": 10,
   "metadata": {},
   "outputs": [
    {
     "data": {
      "text/plain": [
       "array([[1, 2],\n",
       "       [4, 5],\n",
       "       [7, 8]])"
      ]
     },
     "execution_count": 10,
     "metadata": {},
     "output_type": "execute_result"
    }
   ],
   "source": [
    "neki_random_array = np.array([[1,2,3],[4,5,6],[7,8,9]])\n",
    "\n",
    "neki_random_array[:,:-1]"
   ]
  }
 ],
 "metadata": {
  "kernelspec": {
   "display_name": "Python 3",
   "language": "python",
   "name": "python3"
  },
  "language_info": {
   "codemirror_mode": {
    "name": "ipython",
    "version": 3
   },
   "file_extension": ".py",
   "mimetype": "text/x-python",
   "name": "python",
   "nbconvert_exporter": "python",
   "pygments_lexer": "ipython3",
   "version": "3.8.0"
  }
 },
 "nbformat": 4,
 "nbformat_minor": 2
}
